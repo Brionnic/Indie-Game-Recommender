{
 "cells": [
  {
   "cell_type": "code",
   "execution_count": 1,
   "metadata": {
    "collapsed": true
   },
   "outputs": [],
   "source": [
    "# import MongoDB modules\n",
    "from pymongo import MongoClient\n",
    "\n",
    "# import pandas for dataframes\n",
    "import pandas as pd"
   ]
  },
  {
   "cell_type": "code",
   "execution_count": 8,
   "metadata": {
    "collapsed": true
   },
   "outputs": [],
   "source": [
    "# connect to the hosted MongoDB instance with the database that we want\n",
    "db = MongoClient('mongodb://localhost:27017/')[\"capstone\"]\n",
    "\n",
    "# connect to our mongodb indie game database collection\n",
    "# db = client.capstone\n",
    "\n",
    "#indie game DB raw web scrape\n",
    "#raw_game_scrape = db.capstone\n",
    "\n",
    "user_collection = db.game_app_name_id"
   ]
  },
  {
   "cell_type": "code",
   "execution_count": 11,
   "metadata": {},
   "outputs": [
    {
     "name": "stdout",
     "output_type": "stream",
     "text": [
      "8720\n"
     ]
    }
   ],
   "source": [
    "print user_collection.find().count()"
   ]
  },
  {
   "cell_type": "code",
   "execution_count": 12,
   "metadata": {
    "collapsed": true
   },
   "outputs": [],
   "source": [
    "data = pd.DataFrame(list(user_collection.find()))"
   ]
  },
  {
   "cell_type": "code",
   "execution_count": 13,
   "metadata": {},
   "outputs": [
    {
     "data": {
      "text/html": [
       "<div>\n",
       "<style>\n",
       "    .dataframe thead tr:only-child th {\n",
       "        text-align: right;\n",
       "    }\n",
       "\n",
       "    .dataframe thead th {\n",
       "        text-align: left;\n",
       "    }\n",
       "\n",
       "    .dataframe tbody tr th {\n",
       "        vertical-align: top;\n",
       "    }\n",
       "</style>\n",
       "<table border=\"1\" class=\"dataframe\">\n",
       "  <thead>\n",
       "    <tr style=\"text-align: right;\">\n",
       "      <th></th>\n",
       "      <th>_id</th>\n",
       "      <th>app_id</th>\n",
       "      <th>path</th>\n",
       "      <th>title</th>\n",
       "    </tr>\n",
       "  </thead>\n",
       "  <tbody>\n",
       "    <tr>\n",
       "      <th>0</th>\n",
       "      <td>59519b2b421bd105fddcc3a3</td>\n",
       "      <td>367520</td>\n",
       "      <td>http://steamcommunity.com/app/367520/reviews/?p=</td>\n",
       "      <td>Hollow_Knight</td>\n",
       "    </tr>\n",
       "    <tr>\n",
       "      <th>1</th>\n",
       "      <td>59519b2b421bd105fddcc3a4</td>\n",
       "      <td>413150</td>\n",
       "      <td>http://steamcommunity.com/app/413150/reviews/?p=</td>\n",
       "      <td>Stardew_Valley</td>\n",
       "    </tr>\n",
       "    <tr>\n",
       "      <th>2</th>\n",
       "      <td>59519b2b421bd105fddcc3a5</td>\n",
       "      <td>387290</td>\n",
       "      <td>http://steamcommunity.com/app/387290/reviews/?p=</td>\n",
       "      <td>Ori_and_the_Blind_Forest_Definitive_Edition</td>\n",
       "    </tr>\n",
       "    <tr>\n",
       "      <th>3</th>\n",
       "      <td>59519b2b421bd105fddcc3a6</td>\n",
       "      <td>319630</td>\n",
       "      <td>http://steamcommunity.com/app/319630/reviews/?p=</td>\n",
       "      <td>Life_is_Strange__Episode_1</td>\n",
       "    </tr>\n",
       "    <tr>\n",
       "      <th>4</th>\n",
       "      <td>59519b2b421bd105fddcc3a7</td>\n",
       "      <td>286160</td>\n",
       "      <td>http://steamcommunity.com/app/286160/reviews/?p=</td>\n",
       "      <td>Tabletop_Simulator</td>\n",
       "    </tr>\n",
       "  </tbody>\n",
       "</table>\n",
       "</div>"
      ],
      "text/plain": [
       "                        _id  app_id  \\\n",
       "0  59519b2b421bd105fddcc3a3  367520   \n",
       "1  59519b2b421bd105fddcc3a4  413150   \n",
       "2  59519b2b421bd105fddcc3a5  387290   \n",
       "3  59519b2b421bd105fddcc3a6  319630   \n",
       "4  59519b2b421bd105fddcc3a7  286160   \n",
       "\n",
       "                                               path  \\\n",
       "0  http://steamcommunity.com/app/367520/reviews/?p=   \n",
       "1  http://steamcommunity.com/app/413150/reviews/?p=   \n",
       "2  http://steamcommunity.com/app/387290/reviews/?p=   \n",
       "3  http://steamcommunity.com/app/319630/reviews/?p=   \n",
       "4  http://steamcommunity.com/app/286160/reviews/?p=   \n",
       "\n",
       "                                         title  \n",
       "0                                Hollow_Knight  \n",
       "1                               Stardew_Valley  \n",
       "2  Ori_and_the_Blind_Forest_Definitive_Edition  \n",
       "3                   Life_is_Strange__Episode_1  \n",
       "4                           Tabletop_Simulator  "
      ]
     },
     "execution_count": 13,
     "metadata": {},
     "output_type": "execute_result"
    }
   ],
   "source": [
    "data.head()"
   ]
  },
  {
   "cell_type": "code",
   "execution_count": 16,
   "metadata": {},
   "outputs": [
    {
     "name": "stdout",
     "output_type": "stream",
     "text": [
      "{u'username': u'capstone', u'_id': ObjectId('5949bcfc35218d4a9c6f6b50')}\n"
     ]
    }
   ],
   "source": [
    "users = db.users\n",
    "\n",
    "for user in users.find():\n",
    "    print user"
   ]
  },
  {
   "cell_type": "code",
   "execution_count": 15,
   "metadata": {},
   "outputs": [
    {
     "ename": "TypeError",
     "evalue": "'Collection' object is not callable. If you meant to call the 'head' method on a 'Collection' object it is failing because no such method exists.",
     "output_type": "error",
     "traceback": [
      "\u001b[0;31m---------------------------------------------------------------------------\u001b[0m",
      "\u001b[0;31mTypeError\u001b[0m                                 Traceback (most recent call last)",
      "\u001b[0;32m<ipython-input-15-02b4641fa5c6>\u001b[0m in \u001b[0;36m<module>\u001b[0;34m()\u001b[0m\n\u001b[0;32m----> 1\u001b[0;31m \u001b[0musers\u001b[0m\u001b[0;34m.\u001b[0m\u001b[0mhead\u001b[0m\u001b[0;34m(\u001b[0m\u001b[0;34m)\u001b[0m\u001b[0;34m\u001b[0m\u001b[0m\n\u001b[0m",
      "\u001b[0;32m/home/ubuntu/anaconda2/lib/python2.7/site-packages/pymongo/collection.pyc\u001b[0m in \u001b[0;36m__call__\u001b[0;34m(self, *args, **kwargs)\u001b[0m\n\u001b[1;32m   2622\u001b[0m                         \u001b[0;34m\"call the '%s' method on a 'Collection' object it is \"\u001b[0m\u001b[0;34m\u001b[0m\u001b[0m\n\u001b[1;32m   2623\u001b[0m                         \u001b[0;34m\"failing because no such method exists.\"\u001b[0m \u001b[0;34m%\u001b[0m\u001b[0;34m\u001b[0m\u001b[0m\n\u001b[0;32m-> 2624\u001b[0;31m                         self.__name.split(\".\")[-1])\n\u001b[0m",
      "\u001b[0;31mTypeError\u001b[0m: 'Collection' object is not callable. If you meant to call the 'head' method on a 'Collection' object it is failing because no such method exists."
     ]
    }
   ],
   "source": [
    "users.head()"
   ]
  },
  {
   "cell_type": "code",
   "execution_count": null,
   "metadata": {
    "collapsed": true
   },
   "outputs": [],
   "source": []
  }
 ],
 "metadata": {
  "kernelspec": {
   "display_name": "Python 2",
   "language": "python",
   "name": "python2"
  },
  "language_info": {
   "codemirror_mode": {
    "name": "ipython",
    "version": 2
   },
   "file_extension": ".py",
   "mimetype": "text/x-python",
   "name": "python",
   "nbconvert_exporter": "python",
   "pygments_lexer": "ipython2",
   "version": "2.7.13"
  }
 },
 "nbformat": 4,
 "nbformat_minor": 2
}
