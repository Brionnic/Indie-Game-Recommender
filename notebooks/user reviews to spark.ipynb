{
 "cells": [
  {
   "cell_type": "code",
   "execution_count": 270,
   "metadata": {
    "collapsed": true
   },
   "outputs": [],
   "source": [
    "# to use pandas dataframes\n",
    "import pandas as pd\n",
    "\n",
    "import numpy as np\n",
    "\n",
    "# import MongoDB modules\n",
    "from pymongo import MongoClient\n",
    "\n",
    "import matplotlib.pyplot as plt\n",
    "%matplotlib inline\n",
    "\n",
    "# we can always use more time\n",
    "import time\n",
    "\n",
    "from collections import OrderedDict"
   ]
  },
  {
   "cell_type": "code",
   "execution_count": null,
   "metadata": {
    "collapsed": true
   },
   "outputs": [],
   "source": []
  },
  {
   "cell_type": "code",
   "execution_count": 271,
   "metadata": {},
   "outputs": [],
   "source": [
    "import pyspark\n",
    "from pyspark.sql.types import *\n",
    "from pyspark.ml.tuning import TrainValidationSplit\n",
    "from pyspark.ml.recommendation import ALS\n",
    "from pyspark.ml.evaluation import RegressionEvaluator"
   ]
  },
  {
   "cell_type": "code",
   "execution_count": 272,
   "metadata": {},
   "outputs": [
    {
     "data": {
      "text/plain": [
       "(<pyspark.sql.session.SparkSession at 0x7fea49fe08d0>,\n",
       " <pyspark.context.SparkContext at 0x7fea4a0e4610>)"
      ]
     },
     "execution_count": 272,
     "metadata": {},
     "output_type": "execute_result"
    }
   ],
   "source": [
    "# Build our Spark Session and Context\n",
    "spark = pyspark.sql.SparkSession.builder.getOrCreate()\n",
    "sc = spark.sparkContext\n",
    "spark, sc"
   ]
  },
  {
   "cell_type": "code",
   "execution_count": 176,
   "metadata": {},
   "outputs": [],
   "source": [
    "#\n",
    "# Pipeline for model/system\n",
    "#\n",
    "# Scrape Data         -> Process data        -> Fit Model        -> Eval Model\n",
    "#\n",
    "# have game reviews     read in data         Prob easy           hmm\n",
    "# for sparse crappy     into dataframe\n",
    "# first model\n",
    "\n",
    "def load_game_reviews_into_table(collection, user_list):\n",
    "    '''\n",
    "    Spark seems to ingest data via a big list and goes from there\n",
    "    so make a dataframe that looks like\n",
    "    \n",
    "    user | app_id | rating (positive)\n",
    "    '''\n",
    "    start_time = time.time()\n",
    "    data = []\n",
    "    \n",
    "    for game in collection.find():\n",
    "        \n",
    "        # keep track of users with reviews because the rest of \n",
    "        # the users we have to go back and give 0's to\n",
    "        #temp_user_list = []\n",
    "        \n",
    "        for ix, review in enumerate(game[\"positive_reviews\"]):\n",
    "            \n",
    "            index = user_list.index(review[\"user\"])\n",
    "\n",
    "                        \n",
    "            _t = time.time() - start_time\n",
    "            _ts = \"{:2.2f}\".format(_t)[:6]\n",
    "            \n",
    "            print \"{}s ### Game:{} #######{}##############\\r\".format(_ts, game[\"app_id\"], ix),\n",
    "\n",
    "            \n",
    "#             # frame length in time\n",
    "#             _tw = 0.1\n",
    "#             next_checkpoint = 1.0\n",
    "#             frame_fired = False\n",
    "            \n",
    "#             if _t >= (ix * _tw) and frame_fired == False:\n",
    "                            \n",
    "#                 idx = ix // 10\n",
    "            \n",
    "#                 if idx % 4 == 0:\n",
    "#                     star = \" - \"\n",
    "#                 elif idx % 4 == 1:\n",
    "#                     star = ' \\ '\n",
    "#                 elif idx % 4 == 2:\n",
    "#                     star = \" | \"\n",
    "#                 elif idx % 4 == 3:\n",
    "#                     star = \" / \"\n",
    "                    \n",
    "#                 print \"{}######{}####################\\r\".format(star, _ts),\n",
    "#                 frame_fired = True\n",
    "#                 next_checkpoint = (ix + 1) * _tw\n",
    "                \n",
    "#             elif _t >= next_checkpoint:\n",
    "#                 frame_fired = False\n",
    "            #temp_user_list.append(review[\"user\"])\n",
    "    \n",
    "            data.append({\"app_id\":int(game[\"app_id\"]),\n",
    "                         \"user\":index,\n",
    "                         \"rating\":1})\n",
    "        \n",
    "        # now add in zero scores\n",
    "#         for iz, user in enumerate(user_list):\n",
    "#             if user not in temp_user_list:\n",
    "#                 z_index = user_list.index(review[\"user\"])\n",
    "#                 data.append({\"app_id\":int(game[\"app_id\"]),\n",
    "#                          \"user\":z_index,\n",
    "#                          \"rating\":0})\n",
    "#                 _t = time.time() - start_time\n",
    "#                 _ts = \"{:2.2f}\".format(_t)[:6]\n",
    "            \n",
    "#                 print \"{}s ### Game:{} #######{}##############\\r\".format(_ts, game[\"app_id\"], iz),\n",
    "\n",
    "#         del temp_user_list\n",
    "            \n",
    "    df = pd.DataFrame(data)\n",
    "    \n",
    "    print\n",
    "    print \"Completed.\"\n",
    "    \n",
    "    return df\n",
    "\n",
    "def get_unique_users(collection):\n",
    "    '''\n",
    "    return a set that contains all of the user_ids in a unique\n",
    "    manner\n",
    "    \n",
    "    returns:\n",
    "    set of user_ids\n",
    "    '''\n",
    "    \n",
    "    # store the users as a set so they're unique\n",
    "    users = set()\n",
    "\n",
    "    non_unique_users = 0\n",
    "\n",
    "    # step through each doc (which is a game's worth of reviews)\n",
    "    for doc in collection.find():\n",
    "\n",
    "        # step through the positive reviews, adding the user to the users set\n",
    "        [users.add(user[\"user\"])for user in doc[\"positive_reviews\"]]\n",
    "\n",
    "        # find the non-unique users\n",
    "        non_unique_users += len(doc[\"positive_reviews\"])\n",
    "\n",
    "        # step through the negative reviews, adding the user to the users set\n",
    "        [users.add(user[\"user\"])for user in doc[\"negative_reviews\"]]\n",
    "\n",
    "        # find the non-unique users\n",
    "        non_unique_users += len(doc[\"negative_reviews\"])\n",
    "\n",
    "    print \"Unique users:\", len(users)\n",
    "    print \"non-Unique users:\", non_unique_users\n",
    "    \n",
    "    return list(users)\n",
    "\n",
    "def df_to_spark(data):\n",
    "    '''\n",
    "    clean up the columns a bit and convert to a spark df\n",
    "    \n",
    "    returns the spark dataframe\n",
    "    '''\n",
    "    data = data[[\"app_id\", \"user\", \"rating\"]]\n",
    "    \n",
    "    # convert to Spark DataFrame\n",
    "    game_ratings_df = spark.createDataFrame(data)\n",
    "    \n",
    "    return game_ratings_df\n",
    "    \n",
    "def main():\n",
    "    ''' like __name__ == \"__main__\"'''\n",
    "    \n",
    "    # connect to the hosted MongoDB instance\n",
    "    db = MongoClient('mongodb://localhost:27017/')[\"capstone\"]\n",
    "\n",
    "    source_collection = db.selenium_game_review_scrape\n",
    "    \n",
    "    user_list = get_unique_users(source_collection)\n",
    "    \n",
    "    # data = load_game_reviews_into_table(source_collection, user_list)\n",
    "    data = load_game_reviews_into_table(source_collection, user_list)\n",
    "    \n",
    "    spark_game_ratings = df_to_spark(data)\n",
    "    \n",
    "    return spark_game_ratings\n",
    "\n",
    "\n"
   ]
  },
  {
   "cell_type": "code",
   "execution_count": 171,
   "metadata": {},
   "outputs": [
    {
     "name": "stdout",
     "output_type": "stream",
     "text": [
      "Unique users: 98297\n",
      "non-Unique users: 111292\n",
      "173.74s ### Game:212680 #######917###############\n",
      "Completed.\n"
     ]
    }
   ],
   "source": [
    "data = main()"
   ]
  },
  {
   "cell_type": "code",
   "execution_count": 189,
   "metadata": {},
   "outputs": [],
   "source": [
    "# write the dataframe to disk to avoid having to rebuild constantly (~6min for 100 games)\n",
    "data.write.parquet(\"game_reviews.parquet\", mode=\"overwrite\", compression=\"gzip\")"
   ]
  },
  {
   "cell_type": "code",
   "execution_count": 273,
   "metadata": {},
   "outputs": [
    {
     "data": {
      "text/plain": [
       "74517"
      ]
     },
     "execution_count": 273,
     "metadata": {},
     "output_type": "execute_result"
    }
   ],
   "source": [
    "# read it in to make sure that it's working\n",
    "red_data = spark.read.parquet(\"game_reviews.parquet\")\n",
    "\n",
    "red_data.count()"
   ]
  },
  {
   "cell_type": "code",
   "execution_count": 276,
   "metadata": {
    "collapsed": true
   },
   "outputs": [],
   "source": [
    "# avoid fitting to final eval\n",
    "# set seed so we keep these out of the pool\n",
    "# (prob won't help as more data is added in the future and\n",
    "# the pool changes but this is paranoia anyways)\n",
    "train_test, final_eval = red_data.randomSplit([0.9, 0.1], seed=1337)\n",
    "\n",
    "# break the non-held back into train/test split\n",
    "train, test = train_test.randomSplit([0.8, 0.2])"
   ]
  },
  {
   "cell_type": "code",
   "execution_count": 277,
   "metadata": {},
   "outputs": [
    {
     "name": "stdout",
     "output_type": "stream",
     "text": [
      "+------+----+------+\n",
      "|app_id|user|rating|\n",
      "+------+----+------+\n",
      "| 22000|  17|     1|\n",
      "| 22000| 613|     1|\n",
      "| 22000| 634|     1|\n",
      "| 22000|1546|     1|\n",
      "| 22000|1628|     1|\n",
      "| 22000|1650|     1|\n",
      "| 22000|1860|     1|\n",
      "| 22000|2260|     1|\n",
      "| 22000|4270|     1|\n",
      "| 22000|4642|     1|\n",
      "+------+----+------+\n",
      "only showing top 10 rows\n",
      "\n"
     ]
    }
   ],
   "source": [
    "#look at test set to see what the data looks like\n",
    "test.show(10)"
   ]
  },
  {
   "cell_type": "code",
   "execution_count": 278,
   "metadata": {},
   "outputs": [
    {
     "data": {
      "text/plain": [
       "(53657, 13287)"
      ]
     },
     "execution_count": 278,
     "metadata": {},
     "output_type": "execute_result"
    }
   ],
   "source": [
    "# check to make sure the train test split worked\n",
    "train.count(), test.count()"
   ]
  },
  {
   "cell_type": "code",
   "execution_count": 279,
   "metadata": {
    "collapsed": true
   },
   "outputs": [],
   "source": [
    "als_model = ALS(userCol=\"user\",\n",
    "               itemCol=\"app_id\",\n",
    "               ratingCol=\"rating\",\n",
    "               nonnegative=True,\n",
    "               regParam=0.05,\n",
    "               rank=10,\n",
    "               implicitPrefs=False,\n",
    "               maxIter=20)"
   ]
  },
  {
   "cell_type": "code",
   "execution_count": 280,
   "metadata": {
    "collapsed": true
   },
   "outputs": [],
   "source": [
    "recommender = als_model.fit(train)"
   ]
  },
  {
   "cell_type": "code",
   "execution_count": 281,
   "metadata": {
    "collapsed": true
   },
   "outputs": [],
   "source": [
    "# make a single row DataFrame\n",
    "temp = [(1, 413150)]\n",
    "columns = ('user', 'app_id')\n",
    "one_row_spark_df = spark.createDataFrame(temp, columns)"
   ]
  },
  {
   "cell_type": "code",
   "execution_count": 282,
   "metadata": {},
   "outputs": [
    {
     "name": "stdout",
     "output_type": "stream",
     "text": [
      "+----+------+\n",
      "|user|app_id|\n",
      "+----+------+\n",
      "|   1|413150|\n",
      "+----+------+\n",
      "\n"
     ]
    }
   ],
   "source": [
    "one_row_spark_df.show()"
   ]
  },
  {
   "cell_type": "code",
   "execution_count": 283,
   "metadata": {
    "collapsed": true
   },
   "outputs": [],
   "source": [
    "user_factor_df = recommender.userFactors.filter('id = 1')\n",
    "item_factor_df = recommender.itemFactors.filter('id = 413150')"
   ]
  },
  {
   "cell_type": "code",
   "execution_count": 284,
   "metadata": {
    "collapsed": true
   },
   "outputs": [],
   "source": [
    "user_factors = user_factor_df.collect()[0]['features']\n",
    "item_factors = item_factor_df.collect()[0]['features']"
   ]
  },
  {
   "cell_type": "code",
   "execution_count": 285,
   "metadata": {},
   "outputs": [
    {
     "data": {
      "text/plain": [
       "0.92894982753833344"
      ]
     },
     "execution_count": 285,
     "metadata": {},
     "output_type": "execute_result"
    }
   ],
   "source": [
    "np.dot(user_factors, item_factors)"
   ]
  },
  {
   "cell_type": "code",
   "execution_count": 286,
   "metadata": {},
   "outputs": [
    {
     "name": "stdout",
     "output_type": "stream",
     "text": [
      "+----+------+----------+\n",
      "|user|app_id|prediction|\n",
      "+----+------+----------+\n",
      "|   1|413150|0.92894983|\n",
      "+----+------+----------+\n",
      "\n"
     ]
    }
   ],
   "source": [
    "recommender.transform(one_row_spark_df).show()"
   ]
  },
  {
   "cell_type": "code",
   "execution_count": 287,
   "metadata": {},
   "outputs": [
    {
     "name": "stdout",
     "output_type": "stream",
     "text": [
      "+---+--------------------+\n",
      "| id|            features|\n",
      "+---+--------------------+\n",
      "| 10|[0.23667388, 0.25...|\n",
      "| 20|[0.23873065, 0.38...|\n",
      "| 40|[0.32111812, 0.30...|\n",
      "| 50|[0.33541638, 0.36...|\n",
      "| 60|[0.42238978, 0.28...|\n",
      "| 70|[0.3364444, 0.339...|\n",
      "| 80|[0.37046024, 0.34...|\n",
      "| 90|[0.32789287, 0.31...|\n",
      "|110|[0.34830502, 0.34...|\n",
      "|140|[0.32665813, 0.32...|\n",
      "|160|[0.32932562, 0.34...|\n",
      "|170|[0.23998879, 0.37...|\n",
      "|180|[0.24348529, 0.57...|\n",
      "|200|[0.3254567, 0.334...|\n",
      "|220|[0.32665813, 0.32...|\n",
      "|230|[0.32949206, 0.36...|\n",
      "|250|[0.3831413, 0.309...|\n",
      "|260|[0.38767418, 0.31...|\n",
      "|280|[0.32831472, 0.33...|\n",
      "|290|[0.36092678, 0.32...|\n",
      "+---+--------------------+\n",
      "only showing top 20 rows\n",
      "\n"
     ]
    }
   ],
   "source": [
    "recommender.userFactors.show()"
   ]
  },
  {
   "cell_type": "code",
   "execution_count": 288,
   "metadata": {
    "collapsed": true
   },
   "outputs": [],
   "source": [
    "# make predictions on the whole test set\n",
    "predictions = recommender.transform(test)"
   ]
  },
  {
   "cell_type": "code",
   "execution_count": 289,
   "metadata": {
    "collapsed": true
   },
   "outputs": [],
   "source": [
    "# dump the predictions to Pandas so the final calculations are easier to do\n",
    "predictions_df = predictions.toPandas()\n",
    "train_df = train.toPandas()"
   ]
  },
  {
   "cell_type": "code",
   "execution_count": 290,
   "metadata": {},
   "outputs": [
    {
     "data": {
      "text/html": [
       "<div>\n",
       "<style>\n",
       "    .dataframe thead tr:only-child th {\n",
       "        text-align: right;\n",
       "    }\n",
       "\n",
       "    .dataframe thead th {\n",
       "        text-align: left;\n",
       "    }\n",
       "\n",
       "    .dataframe tbody tr th {\n",
       "        vertical-align: top;\n",
       "    }\n",
       "</style>\n",
       "<table border=\"1\" class=\"dataframe\">\n",
       "  <thead>\n",
       "    <tr style=\"text-align: right;\">\n",
       "      <th></th>\n",
       "      <th>app_id</th>\n",
       "      <th>user</th>\n",
       "      <th>rating</th>\n",
       "      <th>prediction</th>\n",
       "    </tr>\n",
       "  </thead>\n",
       "  <tbody>\n",
       "    <tr>\n",
       "      <th>0</th>\n",
       "      <td>65300</td>\n",
       "      <td>18911</td>\n",
       "      <td>1</td>\n",
       "      <td>0.94433</td>\n",
       "    </tr>\n",
       "    <tr>\n",
       "      <th>1</th>\n",
       "      <td>65300</td>\n",
       "      <td>35694</td>\n",
       "      <td>1</td>\n",
       "      <td>NaN</td>\n",
       "    </tr>\n",
       "    <tr>\n",
       "      <th>2</th>\n",
       "      <td>65300</td>\n",
       "      <td>36355</td>\n",
       "      <td>1</td>\n",
       "      <td>NaN</td>\n",
       "    </tr>\n",
       "    <tr>\n",
       "      <th>3</th>\n",
       "      <td>65300</td>\n",
       "      <td>2563</td>\n",
       "      <td>1</td>\n",
       "      <td>NaN</td>\n",
       "    </tr>\n",
       "    <tr>\n",
       "      <th>4</th>\n",
       "      <td>65300</td>\n",
       "      <td>32832</td>\n",
       "      <td>1</td>\n",
       "      <td>NaN</td>\n",
       "    </tr>\n",
       "  </tbody>\n",
       "</table>\n",
       "</div>"
      ],
      "text/plain": [
       "   app_id   user  rating  prediction\n",
       "0   65300  18911       1     0.94433\n",
       "1   65300  35694       1         NaN\n",
       "2   65300  36355       1         NaN\n",
       "3   65300   2563       1         NaN\n",
       "4   65300  32832       1         NaN"
      ]
     },
     "execution_count": 290,
     "metadata": {},
     "output_type": "execute_result"
    }
   ],
   "source": [
    "predictions_df.head()"
   ]
  },
  {
   "cell_type": "code",
   "execution_count": 297,
   "metadata": {},
   "outputs": [
    {
     "name": "stdout",
     "output_type": "stream",
     "text": [
      "13287\n",
      "Mean rating: 7.52615338301e-05\n"
     ]
    },
    {
     "data": {
      "text/html": [
       "<div>\n",
       "<style>\n",
       "    .dataframe thead tr:only-child th {\n",
       "        text-align: right;\n",
       "    }\n",
       "\n",
       "    .dataframe thead th {\n",
       "        text-align: left;\n",
       "    }\n",
       "\n",
       "    .dataframe tbody tr th {\n",
       "        vertical-align: top;\n",
       "    }\n",
       "</style>\n",
       "<table border=\"1\" class=\"dataframe\">\n",
       "  <thead>\n",
       "    <tr style=\"text-align: right;\">\n",
       "      <th></th>\n",
       "      <th>app_id</th>\n",
       "      <th>user</th>\n",
       "      <th>rating</th>\n",
       "      <th>prediction</th>\n",
       "    </tr>\n",
       "  </thead>\n",
       "  <tbody>\n",
       "    <tr>\n",
       "      <th>0</th>\n",
       "      <td>65300</td>\n",
       "      <td>18911</td>\n",
       "      <td>1</td>\n",
       "      <td>0.944330</td>\n",
       "    </tr>\n",
       "    <tr>\n",
       "      <th>1</th>\n",
       "      <td>65300</td>\n",
       "      <td>35694</td>\n",
       "      <td>1</td>\n",
       "      <td>0.500000</td>\n",
       "    </tr>\n",
       "    <tr>\n",
       "      <th>2</th>\n",
       "      <td>65300</td>\n",
       "      <td>36355</td>\n",
       "      <td>1</td>\n",
       "      <td>0.500000</td>\n",
       "    </tr>\n",
       "    <tr>\n",
       "      <th>3</th>\n",
       "      <td>65300</td>\n",
       "      <td>2563</td>\n",
       "      <td>1</td>\n",
       "      <td>0.500000</td>\n",
       "    </tr>\n",
       "    <tr>\n",
       "      <th>4</th>\n",
       "      <td>65300</td>\n",
       "      <td>32832</td>\n",
       "      <td>1</td>\n",
       "      <td>0.500000</td>\n",
       "    </tr>\n",
       "    <tr>\n",
       "      <th>5</th>\n",
       "      <td>65300</td>\n",
       "      <td>71808</td>\n",
       "      <td>1</td>\n",
       "      <td>0.945329</td>\n",
       "    </tr>\n",
       "    <tr>\n",
       "      <th>6</th>\n",
       "      <td>65300</td>\n",
       "      <td>61492</td>\n",
       "      <td>1</td>\n",
       "      <td>0.500000</td>\n",
       "    </tr>\n",
       "    <tr>\n",
       "      <th>7</th>\n",
       "      <td>65300</td>\n",
       "      <td>36629</td>\n",
       "      <td>1</td>\n",
       "      <td>0.938016</td>\n",
       "    </tr>\n",
       "    <tr>\n",
       "      <th>8</th>\n",
       "      <td>65300</td>\n",
       "      <td>39169</td>\n",
       "      <td>1</td>\n",
       "      <td>0.500000</td>\n",
       "    </tr>\n",
       "    <tr>\n",
       "      <th>9</th>\n",
       "      <td>65300</td>\n",
       "      <td>49937</td>\n",
       "      <td>1</td>\n",
       "      <td>0.942100</td>\n",
       "    </tr>\n",
       "    <tr>\n",
       "      <th>10</th>\n",
       "      <td>65300</td>\n",
       "      <td>68866</td>\n",
       "      <td>1</td>\n",
       "      <td>0.500000</td>\n",
       "    </tr>\n",
       "    <tr>\n",
       "      <th>11</th>\n",
       "      <td>65300</td>\n",
       "      <td>34925</td>\n",
       "      <td>1</td>\n",
       "      <td>0.918312</td>\n",
       "    </tr>\n",
       "    <tr>\n",
       "      <th>12</th>\n",
       "      <td>65300</td>\n",
       "      <td>3885</td>\n",
       "      <td>1</td>\n",
       "      <td>0.940463</td>\n",
       "    </tr>\n",
       "    <tr>\n",
       "      <th>13</th>\n",
       "      <td>65300</td>\n",
       "      <td>34607</td>\n",
       "      <td>1</td>\n",
       "      <td>0.500000</td>\n",
       "    </tr>\n",
       "    <tr>\n",
       "      <th>14</th>\n",
       "      <td>65300</td>\n",
       "      <td>92374</td>\n",
       "      <td>1</td>\n",
       "      <td>0.500000</td>\n",
       "    </tr>\n",
       "    <tr>\n",
       "      <th>15</th>\n",
       "      <td>65300</td>\n",
       "      <td>48597</td>\n",
       "      <td>1</td>\n",
       "      <td>0.500000</td>\n",
       "    </tr>\n",
       "    <tr>\n",
       "      <th>16</th>\n",
       "      <td>65300</td>\n",
       "      <td>14266</td>\n",
       "      <td>1</td>\n",
       "      <td>0.500000</td>\n",
       "    </tr>\n",
       "    <tr>\n",
       "      <th>17</th>\n",
       "      <td>65300</td>\n",
       "      <td>41038</td>\n",
       "      <td>1</td>\n",
       "      <td>0.932866</td>\n",
       "    </tr>\n",
       "    <tr>\n",
       "      <th>18</th>\n",
       "      <td>65300</td>\n",
       "      <td>49881</td>\n",
       "      <td>1</td>\n",
       "      <td>0.500000</td>\n",
       "    </tr>\n",
       "    <tr>\n",
       "      <th>19</th>\n",
       "      <td>65300</td>\n",
       "      <td>60591</td>\n",
       "      <td>1</td>\n",
       "      <td>0.938016</td>\n",
       "    </tr>\n",
       "  </tbody>\n",
       "</table>\n",
       "</div>"
      ],
      "text/plain": [
       "    app_id   user  rating  prediction\n",
       "0    65300  18911       1    0.944330\n",
       "1    65300  35694       1    0.500000\n",
       "2    65300  36355       1    0.500000\n",
       "3    65300   2563       1    0.500000\n",
       "4    65300  32832       1    0.500000\n",
       "5    65300  71808       1    0.945329\n",
       "6    65300  61492       1    0.500000\n",
       "7    65300  36629       1    0.938016\n",
       "8    65300  39169       1    0.500000\n",
       "9    65300  49937       1    0.942100\n",
       "10   65300  68866       1    0.500000\n",
       "11   65300  34925       1    0.918312\n",
       "12   65300   3885       1    0.940463\n",
       "13   65300  34607       1    0.500000\n",
       "14   65300  92374       1    0.500000\n",
       "15   65300  48597       1    0.500000\n",
       "16   65300  14266       1    0.500000\n",
       "17   65300  41038       1    0.932866\n",
       "18   65300  49881       1    0.500000\n",
       "19   65300  60591       1    0.938016"
      ]
     },
     "execution_count": 297,
     "metadata": {},
     "output_type": "execute_result"
    }
   ],
   "source": [
    "# Fill any missing values with the mean rating\n",
    "# probably room for improvement here\n",
    "\n",
    "print predictions.count()\n",
    "\n",
    "# print the mean rating (1.0, uh... that's not good)\n",
    "print \"Mean rating:\", train_df['rating'].mean()/predictions.count()\n",
    "\n",
    "#\n",
    "#predictions_df = predictions.toPandas().fillna(train_df['rating'].mean()/predictions.count())\n",
    "predictions_df = predictions.toPandas().fillna(0.5)\n",
    "\n",
    "predictions_df.head(20)"
   ]
  },
  {
   "cell_type": "code",
   "execution_count": 292,
   "metadata": {},
   "outputs": [],
   "source": [
    "# df.loc[df['column_name'] == some_value]\n",
    "# test_user = predictions_df.loc[predictions[\"user\"] == 47217]\n",
    "# test_user.head(20)"
   ]
  },
  {
   "cell_type": "code",
   "execution_count": 298,
   "metadata": {
    "collapsed": true
   },
   "outputs": [],
   "source": [
    "predictions_df['squared_error'] = (predictions_df['rating'] - predictions_df['prediction'])**2"
   ]
  },
  {
   "cell_type": "code",
   "execution_count": 299,
   "metadata": {},
   "outputs": [
    {
     "data": {
      "text/html": [
       "<div>\n",
       "<style>\n",
       "    .dataframe thead tr:only-child th {\n",
       "        text-align: right;\n",
       "    }\n",
       "\n",
       "    .dataframe thead th {\n",
       "        text-align: left;\n",
       "    }\n",
       "\n",
       "    .dataframe tbody tr th {\n",
       "        vertical-align: top;\n",
       "    }\n",
       "</style>\n",
       "<table border=\"1\" class=\"dataframe\">\n",
       "  <thead>\n",
       "    <tr style=\"text-align: right;\">\n",
       "      <th></th>\n",
       "      <th>app_id</th>\n",
       "      <th>user</th>\n",
       "      <th>rating</th>\n",
       "      <th>prediction</th>\n",
       "      <th>squared_error</th>\n",
       "    </tr>\n",
       "  </thead>\n",
       "  <tbody>\n",
       "    <tr>\n",
       "      <th>count</th>\n",
       "      <td>13287.000000</td>\n",
       "      <td>13287.000000</td>\n",
       "      <td>13287.0</td>\n",
       "      <td>13287.000000</td>\n",
       "      <td>13287.000000</td>\n",
       "    </tr>\n",
       "    <tr>\n",
       "      <th>mean</th>\n",
       "      <td>282121.986904</td>\n",
       "      <td>48901.467901</td>\n",
       "      <td>1.0</td>\n",
       "      <td>0.561148</td>\n",
       "      <td>0.215454</td>\n",
       "    </tr>\n",
       "    <tr>\n",
       "      <th>std</th>\n",
       "      <td>108750.719281</td>\n",
       "      <td>28538.511505</td>\n",
       "      <td>0.0</td>\n",
       "      <td>0.151213</td>\n",
       "      <td>0.085305</td>\n",
       "    </tr>\n",
       "    <tr>\n",
       "      <th>min</th>\n",
       "      <td>4000.000000</td>\n",
       "      <td>4.000000</td>\n",
       "      <td>1.0</td>\n",
       "      <td>0.500000</td>\n",
       "      <td>0.001428</td>\n",
       "    </tr>\n",
       "    <tr>\n",
       "      <th>25%</th>\n",
       "      <td>230190.000000</td>\n",
       "      <td>24201.000000</td>\n",
       "      <td>1.0</td>\n",
       "      <td>0.500000</td>\n",
       "      <td>0.250000</td>\n",
       "    </tr>\n",
       "    <tr>\n",
       "      <th>50%</th>\n",
       "      <td>265000.000000</td>\n",
       "      <td>48688.000000</td>\n",
       "      <td>1.0</td>\n",
       "      <td>0.500000</td>\n",
       "      <td>0.250000</td>\n",
       "    </tr>\n",
       "    <tr>\n",
       "      <th>75%</th>\n",
       "      <td>365450.000000</td>\n",
       "      <td>73562.500000</td>\n",
       "      <td>1.0</td>\n",
       "      <td>0.500000</td>\n",
       "      <td>0.250000</td>\n",
       "    </tr>\n",
       "    <tr>\n",
       "      <th>max</th>\n",
       "      <td>595140.000000</td>\n",
       "      <td>98295.000000</td>\n",
       "      <td>1.0</td>\n",
       "      <td>0.962206</td>\n",
       "      <td>0.250000</td>\n",
       "    </tr>\n",
       "  </tbody>\n",
       "</table>\n",
       "</div>"
      ],
      "text/plain": [
       "              app_id          user   rating    prediction  squared_error\n",
       "count   13287.000000  13287.000000  13287.0  13287.000000   13287.000000\n",
       "mean   282121.986904  48901.467901      1.0      0.561148       0.215454\n",
       "std    108750.719281  28538.511505      0.0      0.151213       0.085305\n",
       "min      4000.000000      4.000000      1.0      0.500000       0.001428\n",
       "25%    230190.000000  24201.000000      1.0      0.500000       0.250000\n",
       "50%    265000.000000  48688.000000      1.0      0.500000       0.250000\n",
       "75%    365450.000000  73562.500000      1.0      0.500000       0.250000\n",
       "max    595140.000000  98295.000000      1.0      0.962206       0.250000"
      ]
     },
     "execution_count": 299,
     "metadata": {},
     "output_type": "execute_result"
    }
   ],
   "source": [
    "predictions_df.describe()"
   ]
  },
  {
   "cell_type": "code",
   "execution_count": null,
   "metadata": {
    "collapsed": true
   },
   "outputs": [],
   "source": []
  },
  {
   "cell_type": "code",
   "execution_count": 300,
   "metadata": {},
   "outputs": [
    {
     "data": {
      "text/plain": [
       "0.46417058112762605"
      ]
     },
     "execution_count": 300,
     "metadata": {},
     "output_type": "execute_result"
    }
   ],
   "source": [
    "# Calculate RMSE\n",
    "np.sqrt(sum(predictions_df['squared_error']) / len(predictions_df))\n",
    "\n",
    "# run  val\n",
    "# 1    0.078012435752783327\n",
    "# 2    0.079067974734729068\n"
   ]
  },
  {
   "cell_type": "code",
   "execution_count": null,
   "metadata": {
    "collapsed": true
   },
   "outputs": [],
   "source": []
  },
  {
   "cell_type": "code",
   "execution_count": 161,
   "metadata": {
    "collapsed": true
   },
   "outputs": [],
   "source": [
    "boink = np.zeros(shape=(3,3))"
   ]
  },
  {
   "cell_type": "code",
   "execution_count": 166,
   "metadata": {
    "collapsed": true
   },
   "outputs": [],
   "source": [
    "boink[2,1] = 19"
   ]
  },
  {
   "cell_type": "code",
   "execution_count": 167,
   "metadata": {},
   "outputs": [
    {
     "data": {
      "text/plain": [
       "array([[  0.,   0.,   0.],\n",
       "       [  0.,   9.,   0.],\n",
       "       [  0.,  19.,   0.]])"
      ]
     },
     "execution_count": 167,
     "metadata": {},
     "output_type": "execute_result"
    }
   ],
   "source": [
    "boink"
   ]
  },
  {
   "cell_type": "code",
   "execution_count": null,
   "metadata": {
    "collapsed": true
   },
   "outputs": [],
   "source": []
  }
 ],
 "metadata": {
  "kernelspec": {
   "display_name": "Python 2",
   "language": "python",
   "name": "python2"
  },
  "language_info": {
   "codemirror_mode": {
    "name": "ipython",
    "version": 2
   },
   "file_extension": ".py",
   "mimetype": "text/x-python",
   "name": "python",
   "nbconvert_exporter": "python",
   "pygments_lexer": "ipython2",
   "version": "2.7.13"
  }
 },
 "nbformat": 4,
 "nbformat_minor": 2
}
