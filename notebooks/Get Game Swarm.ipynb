{
 "cells": [
  {
   "cell_type": "code",
   "execution_count": 1,
   "metadata": {
    "collapsed": true
   },
   "outputs": [],
   "source": [
    "# Process the list of games/urls into a list of:\n",
    "# app_id\n",
    "# title\n",
    "# gamepath\n",
    "#\n",
    "# put this into mongoDB collection game_info\n",
    "# and also save to CSV game_info.csv\n",
    "\n",
    "# to use pandas dataframes\n",
    "import pandas as pd\n",
    "\n",
    "import numpy as np\n",
    "\n",
    "# import MongoDB modules\n",
    "from pymongo import MongoClient\n",
    "\n",
    "import matplotlib.pyplot as plt\n",
    "%matplotlib inline\n",
    "\n",
    "# we can always use more time\n",
    "import time"
   ]
  },
  {
   "cell_type": "code",
   "execution_count": 2,
   "metadata": {
    "collapsed": true
   },
   "outputs": [],
   "source": [
    "# connect to the hosted MongoDB instance with the database that we want\n",
    "db = MongoClient('mongodb://localhost:27017/')[\"capstone\"]"
   ]
  },
  {
   "cell_type": "code",
   "execution_count": 7,
   "metadata": {
    "collapsed": true
   },
   "outputs": [],
   "source": [
    "# load the collection that we want:\n",
    "source_collection = db.game_app_name_id"
   ]
  },
  {
   "cell_type": "code",
   "execution_count": 8,
   "metadata": {},
   "outputs": [
    {
     "data": {
      "text/plain": [
       "8720"
      ]
     },
     "execution_count": 8,
     "metadata": {},
     "output_type": "execute_result"
    }
   ],
   "source": [
    "source_collection.find().count()"
   ]
  },
  {
   "cell_type": "code",
   "execution_count": 12,
   "metadata": {},
   "outputs": [],
   "source": [
    "doc_list = [doc for doc in source_collection.find()]"
   ]
  },
  {
   "cell_type": "code",
   "execution_count": 13,
   "metadata": {},
   "outputs": [
    {
     "data": {
      "text/plain": [
       "{u'_id': ObjectId('59519b2b421bd105fddcc3a3'),\n",
       " u'app_id': u'367520',\n",
       " u'path': u'http://steamcommunity.com/app/367520/reviews/?p=',\n",
       " u'title': u'Hollow_Knight'}"
      ]
     },
     "execution_count": 13,
     "metadata": {},
     "output_type": "execute_result"
    }
   ],
   "source": [
    "doc_list[0]"
   ]
  },
  {
   "cell_type": "code",
   "execution_count": 51,
   "metadata": {
    "collapsed": true
   },
   "outputs": [],
   "source": [
    "data = pd.DataFrame(doc_list)"
   ]
  },
  {
   "cell_type": "code",
   "execution_count": 52,
   "metadata": {},
   "outputs": [
    {
     "data": {
      "text/html": [
       "<div>\n",
       "<style>\n",
       "    .dataframe thead tr:only-child th {\n",
       "        text-align: right;\n",
       "    }\n",
       "\n",
       "    .dataframe thead th {\n",
       "        text-align: left;\n",
       "    }\n",
       "\n",
       "    .dataframe tbody tr th {\n",
       "        vertical-align: top;\n",
       "    }\n",
       "</style>\n",
       "<table border=\"1\" class=\"dataframe\">\n",
       "  <thead>\n",
       "    <tr style=\"text-align: right;\">\n",
       "      <th></th>\n",
       "      <th>app_id</th>\n",
       "      <th>title</th>\n",
       "      <th>url</th>\n",
       "    </tr>\n",
       "  </thead>\n",
       "  <tbody>\n",
       "    <tr>\n",
       "      <th>0</th>\n",
       "      <td>367520</td>\n",
       "      <td>Hollow_Knight</td>\n",
       "      <td>http://steamcommunity.com/app/367520/reviews/?p=</td>\n",
       "    </tr>\n",
       "    <tr>\n",
       "      <th>1</th>\n",
       "      <td>413150</td>\n",
       "      <td>Stardew_Valley</td>\n",
       "      <td>http://steamcommunity.com/app/413150/reviews/?p=</td>\n",
       "    </tr>\n",
       "    <tr>\n",
       "      <th>2</th>\n",
       "      <td>387290</td>\n",
       "      <td>Ori_and_the_Blind_Forest_Definitive_Edition</td>\n",
       "      <td>http://steamcommunity.com/app/387290/reviews/?p=</td>\n",
       "    </tr>\n",
       "    <tr>\n",
       "      <th>3</th>\n",
       "      <td>319630</td>\n",
       "      <td>Life_is_Strange__Episode_1</td>\n",
       "      <td>http://steamcommunity.com/app/319630/reviews/?p=</td>\n",
       "    </tr>\n",
       "    <tr>\n",
       "      <th>4</th>\n",
       "      <td>286160</td>\n",
       "      <td>Tabletop_Simulator</td>\n",
       "      <td>http://steamcommunity.com/app/286160/reviews/?p=</td>\n",
       "    </tr>\n",
       "  </tbody>\n",
       "</table>\n",
       "</div>"
      ],
      "text/plain": [
       "   app_id                                        title  \\\n",
       "0  367520                                Hollow_Knight   \n",
       "1  413150                               Stardew_Valley   \n",
       "2  387290  Ori_and_the_Blind_Forest_Definitive_Edition   \n",
       "3  319630                   Life_is_Strange__Episode_1   \n",
       "4  286160                           Tabletop_Simulator   \n",
       "\n",
       "                                                url  \n",
       "0  http://steamcommunity.com/app/367520/reviews/?p=  \n",
       "1  http://steamcommunity.com/app/413150/reviews/?p=  \n",
       "2  http://steamcommunity.com/app/387290/reviews/?p=  \n",
       "3  http://steamcommunity.com/app/319630/reviews/?p=  \n",
       "4  http://steamcommunity.com/app/286160/reviews/?p=  "
      ]
     },
     "execution_count": 52,
     "metadata": {},
     "output_type": "execute_result"
    }
   ],
   "source": [
    "del data[\"_id\"]\n",
    "data[\"url\"] = data[\"path\"]\n",
    "del data[\"path\"]\n",
    "data.head()"
   ]
  },
  {
   "cell_type": "code",
   "execution_count": 53,
   "metadata": {},
   "outputs": [
    {
     "name": "stdout",
     "output_type": "stream",
     "text": [
      "<class 'pandas.core.frame.DataFrame'>\n",
      "RangeIndex: 8720 entries, 0 to 8719\n",
      "Data columns (total 3 columns):\n",
      "app_id    8720 non-null object\n",
      "title     8720 non-null object\n",
      "url       8720 non-null object\n",
      "dtypes: object(3)\n",
      "memory usage: 204.4+ KB\n"
     ]
    }
   ],
   "source": [
    "\n",
    "data.info()"
   ]
  },
  {
   "cell_type": "code",
   "execution_count": 54,
   "metadata": {},
   "outputs": [],
   "source": [
    "data.to_csv(\"game_info.csv\")"
   ]
  },
  {
   "cell_type": "code",
   "execution_count": 130,
   "metadata": {},
   "outputs": [],
   "source": [
    "import csv\n",
    "\n",
    "class GameIndexer(object):\n",
    "    \n",
    "    def __init__(self):\n",
    "        '''\n",
    "        Load in the data with a baked in path\n",
    "        '''\n",
    "        self.game_info_dict = self.load_game_info_csv(\"game_info.csv\")\n",
    "    \n",
    "    def return_game_title(self, app_id):\n",
    "        '''\n",
    "        Takes in app_id, if it's not a string convert to string\n",
    "        then look for the title that corresponds to that app_id\n",
    "\n",
    "        returns:\n",
    "        Title as a string\n",
    "        '''\n",
    "        if type(app_id) != str:\n",
    "            app_id = str(app_id)\n",
    "\n",
    "        _dict = self.game_info_dict[app_id]\n",
    "        \n",
    "        return _dict[\"title\"]\n",
    "    \n",
    "#         if app_id in self.game_info_dict:\n",
    "#             return self.game_info_dict[app_id][\"title\"]\n",
    "#         else:\n",
    "#             print \"App_id\", app_id, \"not found.\"\n",
    "#             return None\n",
    "\n",
    "\n",
    "    def load_game_info_csv(self, path):\n",
    "        '''\n",
    "        Loads the CSV that has app_id, title, and url\n",
    "\n",
    "        returns:\n",
    "        data as dictionary\n",
    "        '''\n",
    "\n",
    "        return_dict = {}\n",
    "\n",
    "        with open(path, \"r\") as csvfile:\n",
    "\n",
    "            # read in the game data\n",
    "            g_data = csv.reader(csvfile, delimiter=\",\")\n",
    "\n",
    "            for idx, row in enumerate(g_data):\n",
    "                #game_info = row.split(\",\")\n",
    "\n",
    "                # game info looks like\n",
    "                # ['', 'app_id', 'title', 'url']\n",
    "                # ['0', '367520', 'Hollow_Knight', 'http://steamcommunity.com/app/367520/reviews/?p=']\n",
    "\n",
    "                if idx != 0:\n",
    "                    # create a dictionary for this game using the game_info\n",
    "                    game_dict = {\"app_id\": row[1], \"title\": row[2], \"url\":row[3]}\n",
    "\n",
    "                    return_dict[str(row[1])] = game_dict\n",
    "\n",
    "#                     if idx == 1:\n",
    "#                         print game_dict\n",
    "        \n",
    "        return return_dict"
   ]
  },
  {
   "cell_type": "code",
   "execution_count": 82,
   "metadata": {
    "collapsed": true
   },
   "outputs": [],
   "source": [
    "zzz = {\"a1\": {\"a\":1, \"b\":2, \"c\":3}, \"a2\": {\"d\":1, \"e\":2, \"f\":3}}"
   ]
  },
  {
   "cell_type": "code",
   "execution_count": 108,
   "metadata": {},
   "outputs": [
    {
     "data": {
      "text/plain": [
       "{'a': 1, 'b': 2, 'c': 3}"
      ]
     },
     "execution_count": 108,
     "metadata": {},
     "output_type": "execute_result"
    }
   ],
   "source": [
    "zzz[\"a1\"]"
   ]
  },
  {
   "cell_type": "code",
   "execution_count": 131,
   "metadata": {},
   "outputs": [],
   "source": [
    "boink = GameIndexer()"
   ]
  },
  {
   "cell_type": "code",
   "execution_count": 134,
   "metadata": {},
   "outputs": [
    {
     "name": "stdout",
     "output_type": "stream",
     "text": [
      "Hollow_Knight\n"
     ]
    }
   ],
   "source": [
    "print boink.return_game_title(367520)"
   ]
  },
  {
   "cell_type": "code",
   "execution_count": null,
   "metadata": {
    "collapsed": true
   },
   "outputs": [],
   "source": []
  }
 ],
 "metadata": {
  "kernelspec": {
   "display_name": "Python 2",
   "language": "python",
   "name": "python2"
  },
  "language_info": {
   "codemirror_mode": {
    "name": "ipython",
    "version": 2
   },
   "file_extension": ".py",
   "mimetype": "text/x-python",
   "name": "python",
   "nbconvert_exporter": "python",
   "pygments_lexer": "ipython2",
   "version": "2.7.13"
  }
 },
 "nbformat": 4,
 "nbformat_minor": 2
}
