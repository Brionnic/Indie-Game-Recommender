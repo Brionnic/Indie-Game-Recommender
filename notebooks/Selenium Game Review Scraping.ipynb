{
 "cells": [
  {
   "cell_type": "code",
   "execution_count": 34,
   "metadata": {
    "collapsed": true
   },
   "outputs": [],
   "source": [
    "# Author: Brian Hardenstein\n",
    "# pixelatedbrian@gmail.com\n",
    "# v0.33\n",
    "\n",
    "from selenium import webdriver\n",
    "\n",
    "# import MongoDB modules\n",
    "from pymongo import MongoClient\n",
    "\n",
    "# we can always use more time\n",
    "import time\n",
    "\n",
    "def extract_user_from_div(html):\n",
    "    '''\n",
    "    Takes in an html div from the steam website and pulls out the user_id\n",
    "    that is embedded in the profile url\n",
    "    \n",
    "    returns the username as a string\n",
    "    '''\n",
    "    # find the profile by splitting by links\n",
    "    links = html.split(\"<a href=\")\n",
    "    \n",
    "    # step through the different links until we (hopefully) find what we want\n",
    "    for i in range(1,len(links)):\n",
    "        # see which link we're examining (debugging)\n",
    "#         print i\n",
    "#         print links[i]\n",
    "\n",
    "        # check to see if the desired url is in this link split\n",
    "        if \"http://steamcommunity.com/id/\" in links[i] or \"http://steamcommunity.com/profiles/\" in links[i]:\n",
    "            #break out the string that we care about\n",
    "            path = links[i].split(\">\")[0].strip('\"').encode('ascii', 'ignore')\n",
    "            \n",
    "            # http://steamcommunity.com/id/koltira/\n",
    "            user_name = path[:-1].split(\"/\")[-1]\n",
    "            \n",
    "            # rarely there is a div in the username, trying to figure out why\n",
    "            if \"div\" in user_name:\n",
    "                for item in links:\n",
    "                    print \"####################### Error in username:\", item\n",
    "                    print\n",
    "                    print\n",
    "            \n",
    "            # mission complete, return the username\n",
    "            return user_name\n",
    "    \n",
    "    # It seems like some users don't have alias/usernames but still have\n",
    "    # profile numbers.  Attempt to fail down to this profile # and use\n",
    "    # that in place of the username\n",
    "    \n",
    "    \n",
    "    return \"-17 Error extracting username\"\n",
    "        \n",
    "def extract_review_from_subdiv(review_html):\n",
    "    '''\n",
    "    Having been provided the div that contains the review text attempt\n",
    "    to strip out some extra formatting and html and return a string\n",
    "    that contains the written review.\n",
    "    \n",
    "    return the review as a string\n",
    "    '''\n",
    "    # chop out the junk div with the date in front\n",
    "    #\n",
    "    # ex:\n",
    "    # u'\\n\\t\\t\\t\\t<div class=\"date_posted\">Posted: July 2</div>\\n\\t\\t\\t\\t\\t\\t\\t\\t\\t\n",
    "    # \\t\\t\\ti had 20 hours into this game within 2 days of buying \n",
    "    # it please send help\\t\\t\\t'\n",
    "    \n",
    "#     print\n",
    "#     print review_html\n",
    "#     print\n",
    "    \n",
    "    raw_review = review_html.split(\"/div>\")[1].encode(\"ascii\", \"ignore\")\n",
    "    \n",
    "    review = \" \".join(raw_review.split())\n",
    "    \n",
    "    return review\n",
    "\n",
    "def extract_rating_from_div(html):\n",
    "    '''\n",
    "    Take in review tab html and extract if the user did thumbs up\n",
    "    or thumbs down\n",
    "    \n",
    "    Return 1 if thumbs up, otherwise return 0\n",
    "    '''\n",
    "    vote = html.get_attribute(\"innerHTML\")\n",
    "    \n",
    "    # try to be specific\n",
    "    # if it's Recommended return 1\n",
    "    # if it's Not Recommended return 0\n",
    "    # if it's something else return -17 and print an error\n",
    "    # (negative values being indicators that something unexpected occurred)\n",
    "    if vote.lower() == \"recommended\":\n",
    "        return 1\n",
    "    elif vote.lower() == \"not recommended\":\n",
    "        return 0\n",
    "    else:\n",
    "        print \"Error in extract_rating_from_div!!! vote =\", vote\n",
    "        return -17\n",
    "    \n",
    "    \n",
    "def get_game_reviews(app_id, count, app_title=\"test\"):\n",
    "    '''\n",
    "    Using the path and the app_id go to the review website for a game\n",
    "    and pull the first <count> top rated reviews for both positive and\n",
    "    negative. (or the number of reviews that do exist if there's less than\n",
    "    1000 reviews)\n",
    "    \n",
    "    returns:\n",
    "    dictionary that contains:\n",
    "    {\n",
    "        \"app_id\": xxxx,\n",
    "        \"title\": yyyy,\n",
    "        \"positive_reviews\" : [<list of user info dictionaries>],\n",
    "        \"negative_reviews\": [<list of user info dictionaries>]    \n",
    "    }\n",
    "    '''\n",
    "    \n",
    "    pos_path = \"http://steamcommunity.com/app/{}/positivereviews/?p=1&browsefilter=toprated\".format(app_id)\n",
    "    neg_path = \"http://steamcommunity.com/app/{}/negativereviews/?p=1&browsefilter=toprated\".format(app_id)\n",
    "    \n",
    "    pos_reviews = strip_mine_path(pos_path, count)\n",
    "    neg_reviews = strip_mine_path(neg_path, count)\n",
    "    \n",
    "    \n",
    "    results = {\n",
    "        \"app_id\": app_id,\n",
    "        \"title\": app_title,\n",
    "        \"positive_reviews\": pos_reviews,\n",
    "        \"negative_reviews\": neg_reviews\n",
    "    }\n",
    "    \n",
    "    return results\n",
    "\n",
    "\n",
    "def strip_mine_path(path, count):\n",
    "    '''\n",
    "    Drill into the path provided and pull <count> amount\n",
    "    of reviews.  Process the page and pull data from the\n",
    "    review divs. Insert data into a small dictionary and\n",
    "    add it to an ongoing list.\n",
    "    \n",
    "    Returns:\n",
    "    List of user reviews which consist of dictionaries.\n",
    "    ex:\n",
    "    {\"user_id\": user_id, \"rating\": 1, \"review\": 'review text'}\n",
    "    '''\n",
    "    \n",
    "    #driver = webdriver.Chrome()\n",
    "    driver = webdriver.PhantomJS()\n",
    "    driver.set_window_size(900, 800)\n",
    "    driver.get(path)\n",
    "\n",
    "    assert \"Steam\" in driver.title\n",
    "\n",
    "    # try to scroll down several times then slight pause before scrolling again\n",
    "    # count // 10 because there's 10 reviews per page\n",
    "    for x in range(count // 10):\n",
    "        # try to get the before height\n",
    "        driver.execute_script(\"window.scrollTo(0, document.body.scrollHeight);\")\n",
    "        \n",
    "        print \"{}th tab of reviews loading...\\r\".format(x) ,\n",
    "        \n",
    "        # trying to scroll down\n",
    "        time.sleep(2)\n",
    "\n",
    "    # At this point data should be loaded by the page\n",
    "    # start processing!\n",
    "    big_results = driver.find_elements_by_class_name(\"apphub_Card\")\n",
    "\n",
    "    # find the div with the review text\n",
    "    text_results = driver.find_elements_by_class_name(\"apphub_CardTextContent\")\n",
    "\n",
    "    # find the div with thumbs up/down\n",
    "    y_labels =  driver.find_elements_by_class_name(\"title\")\n",
    "\n",
    "    print\n",
    "    print \"Number of divs found:\", len(big_results)\n",
    "    print\n",
    "    print\n",
    "\n",
    "    user_data = []\n",
    "    user_set = set()\n",
    "    \n",
    "    # step through all off the resulting divs\n",
    "    # use an index because we access multiple lists\n",
    "    # at the same place\n",
    "    for idx in xrange(len(big_results)):\n",
    "\n",
    "        # full review div element\n",
    "        big_result = big_results[idx]\n",
    "        text_result = text_results[idx]\n",
    "        y_label = y_labels[idx]\n",
    "\n",
    "        # extract html from selenium element\n",
    "        big_data = big_result.get_attribute(\"innerHTML\")\n",
    "        text_review = text_result.get_attribute(\"innerHTML\")\n",
    "        raw_text_review = big_result.find_element_by_class_name(\"apphub_CardTextContent\").get_attribute(\"innerHTML\")\n",
    "\n",
    "        # extract data\n",
    "        text_review = extract_review_from_subdiv(raw_text_review)\n",
    "        user_name = extract_user_from_div(big_data)\n",
    "        rating = extract_rating_from_div(y_label)\n",
    "        \n",
    "        # consolidate data (not being appended to a list anymore but\n",
    "        # still of use for printing to the log)\n",
    "        user_info = {\"user\":user_name, \n",
    "                     \"rating\":rating, \n",
    "                     \"review\":text_review}\n",
    "    \n",
    "        # add data to list\n",
    "        # user_data.append(user_info)\n",
    "        \n",
    "        user_set.add((user_name, rating, text_review))\n",
    "\n",
    "        # log what was found on screen\n",
    "        print \"Rating: {} User: {:<20} Review: {:<40}\".format(user_info[\"rating\"], \n",
    "                                                              user_info[\"user\"], \n",
    "                                                              user_info[\"review\"][:50])\n",
    "    \n",
    "    # close the web page\n",
    "    driver.close()  \n",
    "    \n",
    "    print \"list len:\", len(user_data)\n",
    "    print \"set len:\", len(user_set)\n",
    "    \n",
    "    # mongoDB doesn't like sets, convert to a list of dictionaries that happens\n",
    "    # to have unique entries\n",
    "    results = [{\"user\":user[0], \"rating\":user[1], \"review\":user[2]}  for user in user_set]\n",
    "    \n",
    "    return results\n",
    "\n",
    "def insert(collection, dictionary, _key):\n",
    "    '''\n",
    "    Using the provided collection attempt to add the provided dictionary\n",
    "    to the collection. Check to see if the new dictionary being added\n",
    "    already exists in the collection before adding.\n",
    "    '''\n",
    "    if not collection.find_one({_key: dictionary[_key]}):\n",
    "        try:\n",
    "            collection.insert_one(dictionary)\n",
    "            print \"inserted\", dictionary[_key]\n",
    "\n",
    "        except Exception, e:\n",
    "            print e\n",
    "\n",
    "    else:\n",
    "        print dictionary[_key], \"already exists\"\n",
    "\n",
    "def scrape_to_db(collection, app_id_list, count):\n",
    "    '''\n",
    "    Attempt to scrape <count> reviews from each game in the <app_list>\n",
    "    and then try to add the resulting dictionary to the provided\n",
    "    <collection>.\n",
    "    '''\n",
    "    \n",
    "    for app_id in app_id_list:\n",
    "        game_results = get_game_reviews(app_id, count)\n",
    "        \n",
    "    \n",
    "        insert(collection, game_results, \"app_id\")\n",
    "    \n",
    "def main():\n",
    "    '''\n",
    "    For __name__ == \"__main__\" establish link to db/collection\n",
    "    and start scraping\n",
    "    '''\n",
    "    # connect to the hosted MongoDB instance\n",
    "    db = MongoClient('mongodb://localhost:27017/')[\"capstone\"]\n",
    "    \n",
    "    dest_collection = db.selenium_game_review_scrape\n",
    "    \n",
    "    list_of_apps = [\"413150\", \"367520\", \"286160\", \"246620\", \"257850\", \"105600\", \"211820\", \"311690\", \"233450\", \"250760\"]\n",
    "    \n",
    "    \n",
    "    \n",
    "    scrape_to_db(dest_collection, list_of_apps, 1100)"
   ]
  },
  {
   "cell_type": "code",
   "execution_count": 35,
   "metadata": {
    "scrolled": true
   },
   "outputs": [
    {
     "name": "stdout",
     "output_type": "stream",
     "text": [
      "0th tab of reviews loading...\n",
      "Number of divs found: 20\n",
      "\n",
      "\n",
      "Rating: 1 User: mysticmad            Review: <b>**NOTE: This review will constantly update to a\n",
      "Rating: 1 User: bexyish              Review: This is a game that I have been looking forward to\n",
      "Rating: 1 User: 76561197989330960    Review: The new update promises to improve the quality of \n",
      "Rating: 1 User: nuance               Review: I'm genuinely impressed an indie game of this scal\n",
      "Rating: 1 User: 76561198155735547    Review: Can I just say thankyou to the developer of this g\n",
      "Rating: 1 User: Evanz111             Review: I spent three years building up hype, and I was st\n",
      "Rating: 1 User: 76561198082459183    Review: There is a character in this game that is sufferin\n",
      "Rating: 1 User: 76561198042161073    Review: Ok so far from my game this is what I got:<br>&gt;\n",
      "Rating: 1 User: ErickaUnlimited      Review: <div class=\"bb_h1\"> Overview <          \n",
      "Rating: 1 User: amandath3panda       Review: This game has so much thought and detail put into \n",
      "Rating: 1 User: lilyhammer0709       Review: I grew up playing Harvest Moon with my mom and it \n",
      "Rating: 1 User: Vodkafun             Review: There isn't much to be said that hasn't already be\n",
      "Rating: 1 User: DoctorGFreeman       Review: This game is like a wonderful mix of the best of A\n",
      "Rating: 1 User: batmanthehorse       Review: a game about being closer to nature and your neigh\n",
      "Rating: 1 User: AstrobiaBlack        Review: So this is a fantasy farming town life sim in the \n",
      "Rating: 1 User: Minakie              Review: I suffer from dysthymia, which is a form of chroni\n",
      "Rating: 1 User: lordtonio            Review: Civilization V = \"One more turn.\"<br>Stardew Valle\n",
      "Rating: 1 User: steric400            Review: <b>This game is just fantastic. Obviously you can \n",
      "Rating: 1 User: heliosleinheart      Review: By admission of the dev himself, this game is Harv\n",
      "Rating: 1 User: Progression          Review: <b>Short Review Version</b><br>This is what I did \n",
      "list len: 0\n",
      "set len: 20\n",
      "0th tab of reviews loading...\n",
      "Number of divs found: 20\n",
      "\n",
      "\n",
      "Rating: 0 User: 76561198094840148    Review: Stardew Valley has a lot of character and rural ch\n",
      "Rating: 0 User: McWhiteGK            Review: EDIT: Since 1.1. hit I will be replaying the game \n",
      "Rating: 0 User: bonder               Review: JULY 2017<br><br>UNTIL THE DEV GETS OFF HISAND PUT\n",
      "Rating: 0 User: xXxAlterRektMLGxXx   Review: BEST FARMING SIMULATOR EVER.<br>Sorry I had to cha\n",
      "Rating: 0 User: 76561198260911336    Review: Gets considerably boring after you get to a certra\n",
      "Rating: 0 User: 76561198017599168    Review: I have tried playing this game before when it firs\n",
      "Rating: 0 User: Wsprl                Review: [This is a constructive criticism review, where pe\n",
      "Rating: 0 User: bendyman123          Review: Been waiting far too long for multiplayer, devs ha\n",
      "Rating: 0 User: 76561198122038992    Review: I have put a huge amount of time into this game ov\n",
      "Rating: 0 User: psychemax            Review: I was honestly expecting more than this. <br>The g\n",
      "Rating: 0 User: 76561198061006268    Review: Please fix the crash problem. I had to refund the \n",
      "Rating: 0 User: 76561198372784852    Review: me gusta el juego, pero me desilucion porque se cr\n",
      "Rating: 0 User: atlas1205            Review: I hate that there's no neutral option on steam.\n",
      "Rating: 0 User: Shadeborn            Review: Still no multiplayer. Still....still....adn now I \n",
      "Rating: 0 User: LIGHTZIMB            Review: I really want to play this game because it looks r\n",
      "Rating: 0 User: 76561198162667039    Review: I'm gonna be honest.<br>This game didn't do anythi\n",
      "Rating: 0 User: Zelgadis87           Review: It's really unfortunate to have to give this game \n",
      "Rating: 0 User: Oncus                Review: Well, this game uses one of the oldest tricks in g\n",
      "Rating: 0 User: DuhMedic             Review: I feel like I can say I gave this game an honest e\n",
      "Rating: 0 User: McTravDad            Review: Don't get me wrong, this is a GREAT game, but bugs\n",
      "list len: 0\n",
      "set len: 20\n"
     ]
    }
   ],
   "source": [
    "game_results = get_game_reviews(413150, 10)"
   ]
  },
  {
   "cell_type": "code",
   "execution_count": 36,
   "metadata": {},
   "outputs": [
    {
     "data": {
      "text/plain": [
       "4"
      ]
     },
     "execution_count": 36,
     "metadata": {},
     "output_type": "execute_result"
    }
   ],
   "source": [
    "len(game_results)"
   ]
  },
  {
   "cell_type": "code",
   "execution_count": 39,
   "metadata": {},
   "outputs": [
    {
     "name": "stdout",
     "output_type": "stream",
     "text": [
      "{'rating': 0, 'review': \"I hate that there's no neutral option on steam.\", 'user': 'atlas1205'}\n",
      "\n",
      "{'rating': 0, 'review': \"I have put a huge amount of time into this game over the last few weeks. I absolutely love the game, It is like Harvest Moon, but better. Like, 10 times better, deeper battle system, and everyone loves mayonnaise. I have had a huge amount of fun making bombs to go down the desert mine in the winter, making ancient fruit wine for money, and raising black demon chickens.<br>However, I LOATHE the fishing mini game. I have probably played dozens of fishing mini games in other games, and i usually at least tolerate them. But this one is so frustrating, I just can't stand it. Unfortunately, you can't fix up the old community center without it,<br>Update: 10/9/16<br>Game no longer works. Something about a disk read error. It has been saying this since the 1.1 update WHICH CANNOT BE OPTED OUT OF, and I can't reload an earlier version of the game.<br>I've put my problem out on the message boards, and was roundly ignored.\", 'user': '76561198122038992'}\n",
      "\n",
      "{'rating': 0, 'review': \"I was honestly expecting more than this. <br>The game is interesting, but the controls are so bad (without a controller) that I stopped playing after a bit. <br>I will probably come back on this, but as of now, I can't feel like it's the great experience I wished it was.\", 'user': 'psychemax'}\n",
      "\n",
      "{'rating': 0, 'review': 'Been waiting far too long for multiplayer, devs have abandoned ship and are too busy selling merch than giving us multiplayer, multiple of my friends and myself have been waiting for what was promised us for nearly a year now. Isnt it really really funny like it actually makes me laugh every day I wake up that a month after this game came to steam a person made a multiplayer mod that actually works quite well and it didnt take him any time at all, so why are you blatently robbing everyone who has purchased your game? Well anyway, I really hope you are enjoying your hookers and holidays to the Bahamas while we are all sitting here with ourin our hands waiting for an update that obviously isnt going to come. Mate even Stomping Land was better than your game. 0/10', 'user': 'bendyman123'}\n",
      "\n",
      "{'rating': 0, 'review': \"I'm gonna be honest.<br>This game didn't do anything for me.<br>I was very excited when I got it, because <i>it's Stardew Valley, everyone likes Stardew Valley, I can't believe I haven't already played Stardew Valley!!!!!1!!!</i><br>I mean... Don't get me wrong, it's cute, but the gameplay is boring. Keeping up with characters is a chore, farmwork is a chore, clearing out your lot is a chore, the whole game feels like a chore that you don't have enough daylight to do.<br>I don't really understand why it's so popular.\", 'user': '76561198162667039'}\n",
      "\n",
      "{'rating': 0, 'review': \"Well, this game uses one of the oldest tricks in gaming psychology - slow progress with rewards. This can keep you addicted for a long time.<br><br>The game has NO HARD ENDING, so if you're a type of player who just wants to relax and do easy but repetitive tasks, without any hard goals, then this game should be super good for you (no offense to anyone, this is a good game for relaxing).<br><br>However, if you're a player that is not looking for a relaxing game, and wants a game with determined goals and tasks that are different/challenging then STAY AWAY FROM THIS GAME.<br><br><b>Game features:</b><br><br>- Cute graphics<br>- Friendly and relaxing atmosphere<br>- Fishing, farming, mining etc<br><br>If you enjoy manually watering plants every day (sprinklers are possible later), making slow progress in a relaxing environment, spend real-life hours watching your character work the field, chop wood, go fishing, then THIS GAME IS FOR YOU.<br><br>Otherwise, the game might not be your cup of tea, even though it can be pretty addictive. Do not let the Overwhelmingly positive rating fool you, this GAME IS NOT FOR EVERYONE.\", 'user': 'Oncus'}\n",
      "\n",
      "{'rating': 0, 'review': 'I have tried playing this game before when it first came out and I didn\\'t understand it; so I really disliked it. Now that 1.1 has come out I decided to give it another go, about 50 hours later I have mixed feeling and really wish I didn\\'t. <br><br>For a game made by a single person (or a small group of people) it is inspiring. It is well made and shows that this is a project crafted in love. That said, it has this feeling of a void that cannot be filled. Something is missing from this game and I am not sure what that thing is. Is it the lack of end game progression or meaningful skills? Is it the constant grind? Or the push to be more efficient all the time? I am not sure.<br><br>Stardew Valley lands in this place of trying to tell a story without forcing it on the player. Which sounds great on paper, but it just falls short in my opinion. The connection to the towns people is superficial and my immersion to the game as this city-folk turned farmer broke as the game went further and further into the late game. The townspeople felt less like friendly faces I want to get to know and more like obstacles. I just disliked the people and the temptation to just get the Jojo Mart to demolish the community center became more and more appealing. <br><br>And after finding out what the \"ending\" is for the major storyline, I said to myself \"is that it?\" While the game can be played forever, the main story arch falls flat and I feel no meaningful connection to it. For the amount of effort and time put into the game, I just don\\'t personally feel a sense of accomplishment. Only one character in the game seems to achieve somethings and its not you, its some other character. This feeling is made even worse with the lack of a personal connection made to the towns people I really could care less. And even after 50 hours of putting into the title, I am going to stop playing the game for right now.<br><br>I would say I enjoyed the early game the most, the mystery of the game, but hated the story line, the connection to the townspeople and the late game grind and lack of meaningful skills or items. (I guess I answered my earlier question). I am going to rate this as a negative review solely because a mixed review gets lost in the sea of the overwhelmingly positive reviews.<br><br>In my opinion, I think this game is highly overrated, but that does not mean its a horrible game or a bad game. I think it has the potential to be a good game, but for right now I think its just an okay game. It has a great initial experience, but as the game progress it gets worse and worse. <br><br><br><br>', 'user': '76561198017599168'}\n",
      "\n",
      "{'rating': 0, 'review': 'I really want to play this game because it looks really cool but i have spent over an hour online trying to fix the sound. my sound is enabled, the audio drivers are up to date, the game sound is at max volume in the volume mixer I have reverified the game cache, I have uninstalled and reinstalled the game, and nothing works. In game, sound is enabled and all the way up. I would really love to play the game but this is extremely frustrating.', 'user': 'LIGHTZIMB'}\n",
      "\n",
      "{'rating': 0, 'review': '[This is a constructive criticism review, where perceived problems are identified with solutions to them provided. This review is based on the current game mechanics and may flip positive at a later date, it would be \\'Neutral\\' if such an option were available. Ignore my low playtime, I mainly play offline which isn\\'t recorded. The review gets cut off, the full review is here: <a class=\"bb_link\" href=\"https://steamcommunity.com/linkfilter/?url=http://pastebin.com/TfzHrqYJ\" target=\"_blank\" rel=\"noreferrer\">http://pastebin.com/TfzHrqYJ</a>]<br><br>Stardew Valley is a game that\\'s good with beginnings, which is why it seems so amazing when you first begin playing it. But after investing a good many hours into playing with it\\'s beginning, I\\'ve noticed it struggles with something extremely important: <b>Endgame</b>. For many of the skills, there isn\\'t one. It\\'s the same problem Sim City had, it seemed to have so much potential in the beginning but didn\\'t appear to have any deeper territory to explore. This leaves Stardew Valley as a very shallow experience in it\\'s current state, in my opinion, but the developer has stated they\\'re open to expanding in the future.<br><br><b>Fishing</b>: Fishing has a steady increase in difficulty throughout the game, with common fish becoming easier to catch, while endgame fish become actually obtainable with skill, planning and patience.<br><br><i>What\\'s The Problem?</i>: There are several legendary fish in the game you can use to truly test out your fishing skill, which makes Fishing one of the more fleshed out professions. Once you catch them, that\\'s it. They can never be caught again, not even after a year has passed. Your skill with fishing can never be challenged again, you\\'re stuck fishing significantly easier things, with no endgame left.<br><br><b>Combat</b>: Combat is one of the more disappointing endgame skills, because it is so tightly tied in with Mining, which has a similar poor endgame. While there are several weapon types available, each with their own sort of \\'skill\\', chances are you will never use them.<br><br><i>What\\'s The Problem?</i>: Combat has the MOST problems. Many of the types of monsters you find you will see only fleetingly in your path through the mines. Unless you return to grind them for many days, even though they pose no threat to you. Grinding ridiculous numbers of enemies appears to be the endgame of combat to get rewards from Gil in the Adventurer\\'s Guild. Worse, none of the enemies in the \\'final dungeon\\' have kill counts, ensuring that your carving through all those enemies are not tallying up to anything. This could be solved by having pumped-up versions of older enemies populate the final dungeon so you won\\'t have to go back and grind on easy enemies. Or it could be solved by letting you bait progressively stronger monsters into a monster cave or pit on your farm to kill each day, ensuring you can put combat to use somewhere that isn\\'t mining-related.<br><br>There is the possibility of encountering \\'Elite\\' monsters in the mines, but they are so rare I can recall encountering precisely three of them in my entire first year. Two were in the Stardew Mines, one in the Desert Mines. These are more powerful enemies meant to drop good items. The ones in the Mines dropped a Magnet Ring and a Glow Ring, simple items that you can get from smashing crates. The one deep in the Desert Mine dropped a level 3 Lead Rod. In fact, the vast majority of loot drops have been Magnet Rings, Glow Rings or Lead Rods in both the bottom of the Stardew Mine and the Desert Mine. The game contains absolutely no endgame loot from monsters to speak of, nor any rare endgame drops to acquire from them. No amazing gear, no blueprints, no enemy has a unique drop native to them. There\\'s not even a bestiary menu in game to see how many of each enemy you\\'ve killed, or what loot you\\'ve gathered from each enemy, as many games have.<br><br>You have three weapon types. Dagger, Club and Sword. They all have their own skills, which don\\'t matter because you won\\'t using any of them, but more on that later. There are no endgame Daggers or Clubs, only Swords. The second to best sword you can buy from the Adventurer\\'s Guild for 25,000 gold, which is far better than the Club or Dagger. The only legendary weapon in the game is also a sword, so you can either run the Desert Mines with objectively far weaker weapon types or you can run with a sword. Why is the \\'legendary weapon\\' always a sword in games at the expense of other weapons, I wonder?<br><br>On the matter of weapon skills, the Dagger has a rapid 3-hit, the Club can pound and knock enemies away, and the Sword can shield to deflect oncoming enemy attacks. You will never use any of these because there are no enemies that warrant using them. Combat is resolved by rapidly clicking attack as fast as you can to stunlock an enemy, or prevent them from getting too close to you. There is no strategy involved, beyond the digger monster who forces you to reposition yourself constantly to strike it down. The digger monster shows up only in the very early section of the mines, however. Perhaps combat could have been more fleshed out if you learned more skills as the game went on.<br><br>If you think perhaps you can sneak around the mines to avoid combat, the game prevents that. Every so often you will hear the screech of a flying enemy from nowhere, spawned in to home in on your location. You will constantly be stopping to kill these flying enemies, which I assume are a failsafe to ensure a ladder can appear when they die on the rare chance that one doesn\\'t from the rocks you mine.<br><br>On the subject of the Desert Mines, they are effectively endless. But after spending the entirety of Winter in them, I have been able to tell several things: There is no reward for getting further than Floor 25. No new enemies spawn in. Enemies don\\'t get an increased chance of spawning as elite, meaning the difficulty remains the same. There doesn\\'t appear to be a significantly increased chance of gems whether you\\'re on floor 1 or 100. After spending countless hours in them, I\\'ve only see 3 Iridium Ore Veins (which weren\\'t particularly deep in) and nothing that can drop a Prismatic Shard, the rarest item in the game. I obtained my Prismatic Shard from the unlocked quarry. There is no depth to the mines, what you can mine in them or the enemies you can fight in them.<br><br>Combat (and mining) is perhaps the profession that will most cause your relationships around town to suffer, for 5,000 - 10,000 gold per day in the endgame. Which requires more time than endgame farming for less endgame gold. With all other professions you are more or less around town, able to chat with villagers when you see them wander by your area. A dedicated miner who wants any decent earnings per day will leave Stardew at 9 AM and returning at midnight. With Friendship Decay as a mechanic in the game, this is a significant downside to the Desert Mine.<br><br>On the matter of equipment, the best shoes in the game are not something you can get as a rare drop, because as stated no enemies have rare drops. You get them for reaching Floor 110 in the Stardew Mines. There\\'s nothing better beyond that. No boots give anything beyond a bonus to defense or debuff immunity. There is at least an endgame ring you can craft, giving a boost to many things.<br><br>Combat has a LOT of problems, the worst of which is you can\\'t make a profit purely off of combat because there are no endgame monsters with expensive drops to test your skills against. 99% of your combat profit comes from what you mine. Enemy drops are worth very little. If there were a coloseum-type place in the game where you could fight monsters and survive for rewards, it might be more of a self-sustaining job.<br><br>[continued <a class=\"bb_link\" href=\"https://steamcommunity.com/linkfilter/?url=http://pastebin.com/TfzHrqYJ\" target=\"_blank\" rel=\"noreferrer\">http://pastebin.com/TfzHrqYJ</a>]', 'user': 'Wsprl'}\n",
      "\n",
      "{'rating': 0, 'review': 'Please fix the crash problem. I had to refund the game because of the crashing problem. It crashed every 15-20mins. The game itself is fun to play, but the crashing issue really kills it.', 'user': '76561198061006268'}\n",
      "\n"
     ]
    }
   ],
   "source": [
    "for x in range(10):\n",
    "    print game_results[\"negative_reviews\"][x]\n",
    "    print"
   ]
  },
  {
   "cell_type": "code",
   "execution_count": 12,
   "metadata": {},
   "outputs": [
    {
     "name": "stdout",
     "output_type": "stream",
     "text": [
      "test\n"
     ]
    }
   ],
   "source": [
    "print game_results[\"title\"]"
   ]
  },
  {
   "cell_type": "code",
   "execution_count": 14,
   "metadata": {},
   "outputs": [
    {
     "name": "stdout",
     "output_type": "stream",
     "text": [
      "9\n"
     ]
    }
   ],
   "source": [
    "for x in range(10):\n",
    "    print '{0}\\r'.format(x),\n",
    "    time.sleep(0.05)\n",
    "print\n"
   ]
  },
  {
   "cell_type": "code",
   "execution_count": 41,
   "metadata": {},
   "outputs": [
    {
     "name": "stdout",
     "output_type": "stream",
     "text": [
      "2th tab of reviews loading...\n",
      "Number of divs found: 40\n",
      "\n",
      "\n",
      "Rating: 1 User: mysticmad            Review: <b>**NOTE: This review will constantly update to a\n",
      "Rating: 1 User: bexyish              Review: This is a game that I have been looking forward to\n",
      "Rating: 1 User: 76561197989330960    Review: The new update promises to improve the quality of \n",
      "Rating: 1 User: nuance               Review: I'm genuinely impressed an indie game of this scal\n",
      "Rating: 1 User: 76561198155735547    Review: Can I just say thankyou to the developer of this g\n",
      "Rating: 1 User: Evanz111             Review: I spent three years building up hype, and I was st\n",
      "Rating: 1 User: 76561198082459183    Review: There is a character in this game that is sufferin\n",
      "Rating: 1 User: 76561198042161073    Review: Ok so far from my game this is what I got:<br>&gt;\n",
      "Rating: 1 User: ErickaUnlimited      Review: <div class=\"bb_h1\"> Overview <          \n",
      "Rating: 1 User: amandath3panda       Review: This game has so much thought and detail put into \n",
      "Rating: 1 User: lilyhammer0709       Review: I grew up playing Harvest Moon with my mom and it \n",
      "Rating: 1 User: Vodkafun             Review: There isn't much to be said that hasn't already be\n",
      "Rating: 1 User: DoctorGFreeman       Review: This game is like a wonderful mix of the best of A\n",
      "Rating: 1 User: batmanthehorse       Review: a game about being closer to nature and your neigh\n",
      "Rating: 1 User: AstrobiaBlack        Review: So this is a fantasy farming town life sim in the \n",
      "Rating: 1 User: Minakie              Review: I suffer from dysthymia, which is a form of chroni\n",
      "Rating: 1 User: lordtonio            Review: Civilization V = \"One more turn.\"<br>Stardew Valle\n",
      "Rating: 1 User: steric400            Review: <b>This game is just fantastic. Obviously you can \n",
      "Rating: 1 User: heliosleinheart      Review: By admission of the dev himself, this game is Harv\n",
      "Rating: 1 User: Progression          Review: <b>Short Review Version</b><br>This is what I did \n",
      "Rating: 1 User: tgk0                 Review: You will log 30 hours on this game minimum. You do\n",
      "Rating: 1 User: namelesspete         Review: I have 41 hours logged in this game. <i>It came ou\n",
      "Rating: 1 User: 76561198146710177    Review: This........game......<br>has helped me through my\n",
      "Rating: 1 User: robertbirdybrown     Review: spent a week giving a girl flowers and buying her \n",
      "Rating: 1 User: setpam25             Review: Pirated it first, <br>played a little, <br>impress\n",
      "Rating: 1 User: dr4gonfly93          Review: <div class=\"received_compensation\">Product receive\n",
      "Rating: 1 User: 76561198075990209    Review: &gt;first year in Stardew Valley<br>&gt;go to the \n",
      "Rating: 1 User: andreytsvetkov23     Review: <b>Stardew Valley</b> is a fantastic game and it d\n",
      "Rating: 1 User: 76561198057180036    Review: what can i say? dont have friends? this game will \n",
      "Rating: 1 User: 76561198057206477    Review: I literally had to force myself to stop playing th\n",
      "Rating: 1 User: esssefff             Review: <b>Things I've learned since I started playing Sta\n",
      "Rating: 1 User: 76561198263139668    Review: THIS GAME IS RUINING MY LIFE!<br><br>I thought tha\n",
      "Rating: 1 User: ThatOneGuyZack       Review: &gt;redecorating kitchen<br>&gt;Abigail nearby<br>\n",
      "Rating: 1 User: 76561198061499781    Review: Okay, I'll just play ONE more day.      \n",
      "Rating: 1 User: haniister            Review: This game is running my life. <br>All I ever play \n",
      "Rating: 1 User: 76561198038010369    Review: Pirated it, feel guilty. Bought the game.\n",
      "Rating: 1 User: freakstatic          Review: This game helped me through some really dark times\n",
      "Rating: 1 User: kenuty               Review: Stardew Valley created by one developer by the nam\n",
      "Rating: 1 User: whydidyougrowabeard  Review: Welcome to the \"Game of the Year,\" seriously. This\n",
      "Rating: 1 User: wizardorleans        Review: I didn't think I was going to like this game. I pi\n",
      "list len: 0\n",
      "set len: 40\n",
      "2th tab of reviews loading...\n",
      "Number of divs found: 40\n",
      "\n",
      "\n",
      "Rating: 0 User: 76561198094840148    Review: Stardew Valley has a lot of character and rural ch\n",
      "Rating: 0 User: McWhiteGK            Review: EDIT: Since 1.1. hit I will be replaying the game \n",
      "Rating: 0 User: bonder               Review: JULY 2017<br><br>UNTIL THE DEV GETS OFF HISAND PUT\n",
      "Rating: 0 User: xXxAlterRektMLGxXx   Review: BEST FARMING SIMULATOR EVER.<br>Sorry I had to cha\n",
      "Rating: 0 User: 76561198260911336    Review: Gets considerably boring after you get to a certra\n",
      "Rating: 0 User: 76561198017599168    Review: I have tried playing this game before when it firs\n",
      "Rating: 0 User: Wsprl                Review: [This is a constructive criticism review, where pe\n",
      "Rating: 0 User: bendyman123          Review: Been waiting far too long for multiplayer, devs ha\n",
      "Rating: 0 User: 76561198122038992    Review: I have put a huge amount of time into this game ov\n",
      "Rating: 0 User: psychemax            Review: I was honestly expecting more than this. <br>The g\n",
      "Rating: 0 User: 76561198061006268    Review: Please fix the crash problem. I had to refund the \n",
      "Rating: 0 User: 76561198372784852    Review: me gusta el juego, pero me desilucion porque se cr\n",
      "Rating: 0 User: atlas1205            Review: I hate that there's no neutral option on steam.\n",
      "Rating: 0 User: Shadeborn            Review: Still no multiplayer. Still....still....adn now I \n",
      "Rating: 0 User: LIGHTZIMB            Review: I really want to play this game because it looks r\n",
      "Rating: 0 User: 76561198162667039    Review: I'm gonna be honest.<br>This game didn't do anythi\n",
      "Rating: 0 User: Zelgadis87           Review: It's really unfortunate to have to give this game \n",
      "Rating: 0 User: Oncus                Review: Well, this game uses one of the oldest tricks in g\n",
      "Rating: 0 User: DuhMedic             Review: I feel like I can say I gave this game an honest e\n",
      "Rating: 0 User: McTravDad            Review: Don't get me wrong, this is a GREAT game, but bugs\n",
      "Rating: 0 User: 76561198117719636    Review: This is the first Steam review I've ever written, \n",
      "Rating: 0 User: 76561198031077746    Review: I'll recommend this game once they fix the crashin\n",
      "Rating: 0 User: garrybarry13         Review: I don't really see what super fun about the game, \n",
      "Rating: 0 User: 76561198369875562    Review: First off, don't kill me for not recommending this\n",
      "Rating: 0 User: 11clock              Review: This game will test your patience.<br><br>I enjoye\n",
      "Rating: 0 User: nolanalighieri       Review: It's a toss up between a no and a yes. Yes: this i\n",
      "Rating: 0 User: 76561198018303985    Review: This kind of game really draws a niche crowd. I re\n",
      "Rating: 0 User: qa12345rt            Review: So I was fishing and i had found 2 dinosaur eggs w\n",
      "Rating: 0 User: 76561198166620870    Review: I really tried to like it but for some reason I co\n",
      "Rating: 0 User: 76561198001646306    Review: What I heard most about this game is that it is, \"\n",
      "Rating: 0 User: 76561198067098063    Review: It really isn't a bad game at its core. It's well \n",
      "Rating: 0 User: 76561198107078793    Review: This is such a nice game that I feel so sorry to g\n",
      "Rating: 0 User: 76561198067431071    Review: As a fan of harvest moon and rune factory, i'm hap\n",
      "Rating: 0 User: www_freetvs_com      Review: This might be some people's cup of tea, but not mi\n",
      "Rating: 0 User: 76561198070413834    Review: Multiplayer is amazing 10/10<br><br>....but no hem\n",
      "Rating: 0 User: 76561198124072631    Review: i dont know why but it crashes on startup kinda a \n",
      "Rating: 0 User: 76561197971077028    Review: Journey of the Prairie King. I have never been so \n",
      "Rating: 0 User: 76561198088212604    Review: Played this game no problem exactly 7 days ago. To\n",
      "Rating: 0 User: cgdestro             Review: God what am I doing with my life :) This is such a\n",
      "Rating: 0 User: crizp                Review: Game got a nice and relaxing atmosphere with good \n",
      "list len: 0\n",
      "set len: 40\n",
      "413150 already exists\n"
     ]
    }
   ],
   "source": [
    "main()"
   ]
  },
  {
   "cell_type": "code",
   "execution_count": 1,
   "metadata": {
    "collapsed": true
   },
   "outputs": [],
   "source": [
    "big_list_of_apps = [383870, 251570,387290, 252950,305620,433340,242760,304430,391540,26800,204360, 275850,265000, 437220,308420,205730,271240,250700,231200,251270,329130,474750,264710,222880,9500,237990,281640,4000,65300,219990,398850,241600,220780,95300,239820,107100,294100,224760,427520,22000, 322500,221910,48000]"
   ]
  },
  {
   "cell_type": "code",
   "execution_count": 2,
   "metadata": {},
   "outputs": [
    {
     "data": {
      "text/plain": [
       "43"
      ]
     },
     "execution_count": 2,
     "metadata": {},
     "output_type": "execute_result"
    }
   ],
   "source": [
    "len(big_list_of_apps)"
   ]
  },
  {
   "cell_type": "code",
   "execution_count": 3,
   "metadata": {
    "collapsed": true
   },
   "outputs": [],
   "source": [
    "app_set = set(big_list_of_apps)"
   ]
  },
  {
   "cell_type": "code",
   "execution_count": 4,
   "metadata": {},
   "outputs": [
    {
     "data": {
      "text/plain": [
       "43"
      ]
     },
     "execution_count": 4,
     "metadata": {},
     "output_type": "execute_result"
    }
   ],
   "source": [
    "len(app_set)"
   ]
  },
  {
   "cell_type": "code",
   "execution_count": 5,
   "metadata": {
    "collapsed": true
   },
   "outputs": [],
   "source": [
    "def add_to_set(game, a_set):\n",
    "    a_set.add(game)\n",
    "    print len(a_set)\n",
    "    \n",
    "    return a_set"
   ]
  },
  {
   "cell_type": "code",
   "execution_count": 52,
   "metadata": {},
   "outputs": [
    {
     "name": "stdout",
     "output_type": "stream",
     "text": [
      "90\n"
     ]
    }
   ],
   "source": [
    "app_set = add_to_set(361300 , app_set)"
   ]
  },
  {
   "cell_type": "code",
   "execution_count": 53,
   "metadata": {},
   "outputs": [
    {
     "name": "stdout",
     "output_type": "stream",
     "text": [
      "[427520, 371200, 398850, 264710, 219150, 431120, 252950, 210970, 290340, 281640, 475190, 261180, 322110, 274500, 204360, 107100, 554600, 425580, 474750, 296470, 405640, 220780, 595140, 234650, 222880, 26800, 251570, 433340, 308420, 212680, 265930, 239820, 312530, 294100, 221910, 356570, 247080, 470260, 383870, 231160, 421120, 65300, 230190, 318230, 9500, 387290, 231200, 265000, 304430, 469820, 365450, 253250, 435530, 250700, 361300, 219990, 367450, 326460, 206190, 391540, 527230, 48000, 505730, 364420, 251270, 271240, 275850, 504210, 387990, 95300, 568220, 4000, 205730, 237990, 329130, 242760, 457140, 239030, 538100, 241600, 322500, 394970, 396750, 305620, 282070, 437220, 258030, 22000, 248820, 224760]\n"
     ]
    }
   ],
   "source": [
    "print repr(list(app_set))"
   ]
  },
  {
   "cell_type": "code",
   "execution_count": 56,
   "metadata": {
    "collapsed": true
   },
   "outputs": [],
   "source": [
    "big_app_list = [ str(app) for app in list(app_set)]"
   ]
  },
  {
   "cell_type": "code",
   "execution_count": 64,
   "metadata": {},
   "outputs": [
    {
     "name": "stdout",
     "output_type": "stream",
     "text": [
      "['427520', '371200', '398850', '264710', '219150', '431120', '252950', '210970', '290340', '281640', '475190', '261180', '322110', '274500', '204360', '107100', '554600', '425580', '474750', '296470', '405640', '220780', '595140', '234650', '222880', '26800', '251570', '433340', '308420', '212680', '265930', '239820', '312530', '294100', '221910', '356570', '247080', '470260', '383870', '231160', '421120', '65300', '230190', '318230', '9500', '387290', '231200', '265000', '304430', '469820', '365450', '253250', '435530', '250700', '361300', '219990', '367450', '326460', '206190', '391540', '527230', '48000', '505730', '364420', '251270', '271240', '275850', '504210', '387990', '95300', '568220', '4000', '205730', '237990', '329130', '242760', '457140', '239030', '538100', '241600', '322500', '394970', '396750', '305620', '282070', '437220', '258030', '22000', '248820', '224760']\n"
     ]
    }
   ],
   "source": [
    "print repr(big_app_list)"
   ]
  },
  {
   "cell_type": "code",
   "execution_count": 60,
   "metadata": {
    "collapsed": true
   },
   "outputs": [],
   "source": [
    "big_set = set(big_app_list)"
   ]
  },
  {
   "cell_type": "code",
   "execution_count": 65,
   "metadata": {},
   "outputs": [
    {
     "data": {
      "text/plain": [
       "90"
      ]
     },
     "execution_count": 65,
     "metadata": {},
     "output_type": "execute_result"
    }
   ],
   "source": [
    "len(big_app_list)"
   ]
  },
  {
   "cell_type": "code",
   "execution_count": 62,
   "metadata": {
    "collapsed": true
   },
   "outputs": [],
   "source": [
    "for item in [\"413150\", \"367520\", \"286160\", \"246620\", \"257850\", \"105600\", \"211820\", \"311690\", \"233450\", \"250760\"]:\n",
    "    big_set.add(item)"
   ]
  },
  {
   "cell_type": "code",
   "execution_count": 63,
   "metadata": {},
   "outputs": [
    {
     "data": {
      "text/plain": [
       "100"
      ]
     },
     "execution_count": 63,
     "metadata": {},
     "output_type": "execute_result"
    }
   ],
   "source": [
    "len(big_set)"
   ]
  },
  {
   "cell_type": "code",
   "execution_count": 66,
   "metadata": {
    "collapsed": true
   },
   "outputs": [],
   "source": [
    "boink = big_app_list[:30]"
   ]
  },
  {
   "cell_type": "code",
   "execution_count": 67,
   "metadata": {},
   "outputs": [
    {
     "data": {
      "text/plain": [
       "30"
      ]
     },
     "execution_count": 67,
     "metadata": {},
     "output_type": "execute_result"
    }
   ],
   "source": [
    "len(boink)"
   ]
  },
  {
   "cell_type": "code",
   "execution_count": null,
   "metadata": {
    "collapsed": true
   },
   "outputs": [],
   "source": []
  }
 ],
 "metadata": {
  "kernelspec": {
   "display_name": "Python 2",
   "language": "python",
   "name": "python2"
  },
  "language_info": {
   "codemirror_mode": {
    "name": "ipython",
    "version": 2
   },
   "file_extension": ".py",
   "mimetype": "text/x-python",
   "name": "python",
   "nbconvert_exporter": "python",
   "pygments_lexer": "ipython2",
   "version": "2.7.13"
  }
 },
 "nbformat": 4,
 "nbformat_minor": 2
}
